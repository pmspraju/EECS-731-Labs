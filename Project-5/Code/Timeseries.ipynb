{
 "cells": [
  {
   "cell_type": "markdown",
   "metadata": {},
   "source": [
    "## EECS 731 Project 5"
   ]
  },
  {
   "cell_type": "markdown",
   "metadata": {},
   "source": [
    "### Step 0: Import relevant packages"
   ]
  },
  {
   "cell_type": "code",
   "execution_count": 1,
   "metadata": {},
   "outputs": [
    {
     "name": "stdout",
     "output_type": "stream",
     "text": [
      "-----------------------------------------------------------------------\n",
      "The scikit-learn version is 0.20.0.\n"
     ]
    },
    {
     "name": "stderr",
     "output_type": "stream",
     "text": [
      "C:\\ProgramData\\Anaconda2\\envs\\TFK35\\lib\\site-packages\\ipykernel_launcher.py:32: FutureWarning: Passing a negative integer is deprecated in version 1.0 and will not be supported in future version. Instead, use None to not limit the column width.\n"
     ]
    }
   ],
   "source": [
    "# Import libraries necessary for this project\n",
    "import pandas as pd\n",
    "from datetime import datetime\n",
    "\n",
    "import sklearn\n",
    "#import networkx as nx\n",
    "import numpy  as np\n",
    "import pandas as pd\n",
    "import seaborn as sns; sns.set()\n",
    "import datetime as dt\n",
    "from matplotlib import pyplot as plt\n",
    "from pandas import compat\n",
    "\n",
    "import os\n",
    "#import sys\n",
    "import time\n",
    "import pandas as pd\n",
    "import numpy  as np\n",
    "#import nltk\n",
    "from sklearn.preprocessing import MinMaxScaler\n",
    "from sklearn.model_selection import train_test_split\n",
    "from sklearn.preprocessing import LabelEncoder\n",
    "from sklearn.model_selection import GridSearchCV\n",
    "from sklearn import linear_model\n",
    "from sklearn.metrics import make_scorer\n",
    "from sklearn.metrics import r2_score\n",
    "from matplotlib import pyplot as plt\n",
    "import seaborn as sns; sns.set()\n",
    "\n",
    "pd.set_option('display.max_columns', None)  # or 1000\n",
    "pd.set_option('display.max_rows', None)  # or 1000\n",
    "pd.set_option('display.max_colwidth', -1)  # or 199\n",
    "\n",
    "compat.PY3 = True\n",
    "print (\"-----------------------------------------------------------------------\")\n",
    "print('The scikit-learn version is {}.'.format(sklearn.__version__))"
   ]
  },
  {
   "cell_type": "markdown",
   "metadata": {},
   "source": [
    "### Step 1: Pre requisite functions"
   ]
  },
  {
   "cell_type": "markdown",
   "metadata": {},
   "source": [
    "#### This function load the data from the given path and finename"
   ]
  },
  {
   "cell_type": "code",
   "execution_count": 2,
   "metadata": {},
   "outputs": [],
   "source": [
    "def loadData(path,filename):\n",
    "    try:\n",
    "             files = os.listdir(path)\n",
    "             for f in files:\n",
    "                 if f == filename:\n",
    "                     data = pd.read_csv(os.path.join(path,f))\n",
    "                     return data\n",
    "            \n",
    "    except Exception as ex:\n",
    "           print (\"-----------------------------------------------------------------------\")\n",
    "           template = \"An exception of type {0} occurred. Arguments:\\n{1!r}\"\n",
    "           message = template.format(type(ex).__name__, ex.args)\n",
    "           print (message)"
   ]
  },
  {
   "cell_type": "markdown",
   "metadata": {},
   "source": [
    "#### This function derives the shape of the dataset and returns the feature and target columns"
   ]
  },
  {
   "cell_type": "code",
   "execution_count": 3,
   "metadata": {},
   "outputs": [],
   "source": [
    "#Function to explore the data\n",
    "def exploreData(data):\n",
    "    try:\n",
    "           #Total number of records                                  \n",
    "           rows = data.shape[0]\n",
    "           cols = data.shape[1]    \n",
    "           \n",
    "           #separate features and target\n",
    "           drop_col = ['target']\n",
    "           features = data.drop(drop_col, axis = 1)\n",
    "           target = data[drop_col]\n",
    "          \n",
    "           # Print the results\n",
    "           print (\"-----------------------------------------------------------------------\")\n",
    "           print (\"Total number of records: {}\".format(rows))\n",
    "           print (\"Total number of features: {}\".format(cols))\n",
    "           print (\"-----------------------------------------------------------------------\")\n",
    "           \n",
    "           return features,target\n",
    "           \n",
    "    except Exception as ex:\n",
    "           print (\"-----------------------------------------------------------------------\")\n",
    "           template = \"An exception of type {0} occurred. Arguments:\\n{1!r}\"\n",
    "           message = template.format(type(ex).__name__, ex.args)\n",
    "           print (message)"
   ]
  },
  {
   "cell_type": "markdown",
   "metadata": {},
   "source": [
    "#### This function computes the percentage of missing values per each column in the given dataset"
   ]
  },
  {
   "cell_type": "code",
   "execution_count": 6,
   "metadata": {},
   "outputs": [],
   "source": [
    "def missingValues(data):\n",
    "    try:\n",
    "           # Total missing values\n",
    "           mis_val = data.isnull().sum()\n",
    "         \n",
    "           # Percentage of missing values\n",
    "           mis_val_percent = 100 * mis_val / len(data)\n",
    "           \n",
    "           # Make a table with the results\n",
    "           mis_val_table = pd.concat([mis_val, mis_val_percent], axis=1)\n",
    "           \n",
    "           # Rename the columns\n",
    "           mis_val_table_ren_columns = mis_val_table.rename(\n",
    "           columns = {0 : 'Missing Values', 1 : '% of Total Values'})\n",
    "           mis_val_table_ren_columns.head(4 )\n",
    "           # Sort the table by percentage of missing descending\n",
    "           misVal = mis_val_table_ren_columns[\n",
    "            mis_val_table_ren_columns.iloc[:,1] != 0].sort_values(\n",
    "                   '% of Total Values', ascending=False).round(1)\n",
    "                     \n",
    "           return misVal, mis_val_table_ren_columns\n",
    "\n",
    "    except Exception as ex:\n",
    "           print (\"-----------------------------------------------------------------------\")\n",
    "           template = \"An exception of type {0} occurred. Arguments:\\n{1!r}\"\n",
    "           message = template.format(type(ex).__name__, ex.args)\n",
    "           print (message)"
   ]
  },
  {
   "cell_type": "markdown",
   "metadata": {},
   "source": [
    "#### This method scale the numerical features and label encoding for categorical features "
   ]
  },
  {
   "cell_type": "code",
   "execution_count": 7,
   "metadata": {},
   "outputs": [],
   "source": [
    "def transformData(features,target):\n",
    "    try:    \n",
    "        # TODO: One-hot encode the 'features_log_minmax_transform' data using pandas.get_dummies()\n",
    "        #features_final = pd.get_dummies(features_log_minmax_transform)\n",
    "        \n",
    "        features_log_minmax_transform = pd.DataFrame(data = features)\n",
    "        enc = LabelEncoder()\n",
    "        \n",
    "        features_log_minmax_transform['code'] = enc.fit_transform(features_log_minmax_transform['code'])\n",
    "        features_log_minmax_transform['Warehouse'] = enc.fit_transform(features_log_minmax_transform['Warehouse'])\n",
    "        features_log_minmax_transform['category'] = enc.fit_transform(features_log_minmax_transform['category'])\n",
    "        \n",
    "        scaler = MinMaxScaler() # default=(0, 1)\n",
    "        numerical = ['code','Warehouse','category','Date','wh_sum','pc_sum','pct_sum']\n",
    "        features_log_minmax_transform[numerical] = features_log_minmax_transform[numerical].apply(lambda x: np.log(x + 1)) \n",
    "        features_log_minmax_transform[numerical] = scaler.fit_transform(features_log_minmax_transform[numerical])\n",
    "        target = target.apply(lambda x: np.log(x + 1))       \n",
    "        target_f = scaler.fit_transform(target)\n",
    "        features_f = features_log_minmax_transform\n",
    "        features_f = features_f[~features_f.isin([np.nan, np.inf, -np.inf]).any(1)]\n",
    "        ind = np.where(target_f >= np.finfo(np.float64).max)\n",
    "        \n",
    "        return features_f, target_f\n",
    "        \n",
    "    except Exception as ex:\n",
    "           print (\"-----------------------------------------------------------------------\")\n",
    "           template = \"An exception of type {0} occurred. Arguments:\\n{1!r}\"\n",
    "           message = template.format(type(ex).__name__, ex.args)\n",
    "           print (message)"
   ]
  },
  {
   "cell_type": "markdown",
   "metadata": {},
   "source": [
    "#### This method splits data in to training and test data"
   ]
  },
  {
   "cell_type": "code",
   "execution_count": 8,
   "metadata": {},
   "outputs": [],
   "source": [
    "#split the data in to train and test data\n",
    "def splitData(features,target, testsize):\n",
    "    try:\n",
    "        # Split the 'features' and 'income' data into training and testing sets\n",
    "        X_train, X_test, y_train, y_test = train_test_split(features,\n",
    "                                                            target,\n",
    "                                                            test_size = testsize, \n",
    "                                                            random_state = 1)\n",
    "\n",
    "        # Show the results of the split\n",
    "        print (\"Features training set has {} samples.\".format(X_train.shape[0]))\n",
    "        print (\"Features testing set has {} samples.\".format(X_test.shape[0]))\n",
    "        print (\"Target training set has {} samples.\".format(y_train.shape[0]))\n",
    "        print (\"Target testing set has {} samples.\".format(y_test.shape[0]))\n",
    "        print (\"-----------------------------------------------------------------------\")\n",
    "        return X_train, X_test, y_train, y_test\n",
    "    except Exception as ex:\n",
    "           print (\"-----------------------------------------------------------------------\")\n",
    "           template = \"An exception of type {0} occurred. Arguments:\\n{1!r}\"\n",
    "           message = template.format(type(ex).__name__, ex.args)\n",
    "           print (message)"
   ]
  },
  {
   "cell_type": "markdown",
   "metadata": {},
   "source": [
    "#### This method plots the bar plot or histogram for the given data"
   ]
  },
  {
   "cell_type": "code",
   "execution_count": 10,
   "metadata": {},
   "outputs": [],
   "source": [
    "def barPlot(l1,l2,xd,yd,title):\n",
    "    try:\n",
    "        plt.figure(figsize=(20,5))\n",
    "        sns.barplot(l1, l2, alpha=0.8)\n",
    "        plt.title(title)\n",
    "        plt.ylabel(yd, fontsize=12)\n",
    "        plt.xlabel(xd, fontsize=12)\n",
    "        plt.xticks(rotation=90)\n",
    "        plt.show()\n",
    "    except Exception as ex:\n",
    "        print (\"-----------------------------------------------------------------------\")\n",
    "        template = \"An exception of type {0} occurred. Arguments:\\n{1!r}\"\n",
    "        message = template.format(type(ex).__name__, ex.args)\n",
    "        print (message)"
   ]
  },
  {
   "cell_type": "markdown",
   "metadata": {},
   "source": [
    "#### This method plots the density plot for continous features"
   ]
  },
  {
   "cell_type": "code",
   "execution_count": 11,
   "metadata": {},
   "outputs": [],
   "source": [
    "def numCount(data,f1,f2,title):\n",
    "    try:\n",
    "        plt.figure(figsize = (12, 6))\n",
    "        sns.kdeplot(data[f1], label='Team 1')\n",
    "        sns.kdeplot(data[f2], label='Team 2')\n",
    "        plt.title(title)\n",
    "        plt.legend();\n",
    "    except Exception as ex:\n",
    "        print (\"-----------------------------------------------------------------------\")\n",
    "        template = \"An exception of type {0} occurred. Arguments:\\n{1!r}\"\n",
    "        message = template.format(type(ex).__name__, ex.args)\n",
    "        print (message)    "
   ]
  },
  {
   "cell_type": "markdown",
   "metadata": {},
   "source": [
    "#### This method plots the correlation heatmap between features"
   ]
  },
  {
   "cell_type": "code",
   "execution_count": 12,
   "metadata": {},
   "outputs": [],
   "source": [
    "def corrPlot(corr):\n",
    "    try:\n",
    "        # Generate a mask for the upper triangle\n",
    "        mask = np.triu(np.ones_like(corr, dtype=bool))\n",
    "        \n",
    "        # Set up the matplotlib figure\n",
    "        f, ax = plt.subplots(figsize=(11, 9))\n",
    "        \n",
    "        # Generate a custom diverging colormap\n",
    "        cmap = sns.diverging_palette(230, 20, as_cmap=True)\n",
    "        \n",
    "        # Draw the heatmap with the mask and correct aspect ratio\n",
    "        sns.heatmap(corr, mask=mask, cmap=cmap, vmax=.3, center=0,\n",
    "                    square=True, linewidths=.5, cbar_kws={\"shrink\": .5})\n",
    "    except Exception as ex:\n",
    "        print (\"-----------------------------------------------------------------------\")\n",
    "        template = \"An exception of type {0} occurred. Arguments:\\n{1!r}\"\n",
    "        message = template.format(type(ex).__name__, ex.args)\n",
    "        print (message)   "
   ]
  },
  {
   "cell_type": "markdown",
   "metadata": {},
   "source": [
    "#### This method implements the Grid search cross validation method"
   ]
  },
  {
   "cell_type": "code",
   "execution_count": 13,
   "metadata": {},
   "outputs": [],
   "source": [
    "def gridSearch(X_train, X_test, y_train, y_test,clf):\n",
    "    try:\n",
    "        params = {}\n",
    "         \n",
    "        scoring_fnc = make_scorer(r2_score)\n",
    "        learner = GridSearchCV(clf,params,scoring=scoring_fnc)\n",
    "        results = {}\n",
    "         \n",
    "        start_time = time.clock()\n",
    "        grid = learner.fit(X_train,y_train)\n",
    "         \n",
    "        end_time = time.clock()\n",
    "        results['train_time'] = end_time - start_time\n",
    "        clf_fit_train = grid.best_estimator_\n",
    "        start_time = time.clock()\n",
    "         \n",
    "        clf_predict_train = clf_fit_train.predict(X_train)\n",
    "        clf_predict_test = clf_fit_train.predict(X_test)\n",
    "         \n",
    "        end_time = time.clock()\n",
    "        results['pred_time'] = end_time - start_time  \n",
    "         \n",
    "        results['acc_train'] = r2_score(y_train, clf_predict_train)\n",
    "        results['acc_test']  = r2_score(y_test, clf_predict_test)\n",
    "        \n",
    "        return results,clf_fit_train      \n",
    "    except Exception as ex:\n",
    "           print (\"-----------------------------------------------------------------------\")\n",
    "           template = \"An exception of type {0} occurred. Arguments:\\n{1!r}\"\n",
    "           message = template.format(type(ex).__name__, ex.args)\n",
    "           print (message)\n"
   ]
  },
  {
   "cell_type": "markdown",
   "metadata": {},
   "source": [
    "#### This method implements Linear regression"
   ]
  },
  {
   "cell_type": "code",
   "execution_count": 14,
   "metadata": {},
   "outputs": [],
   "source": [
    "def lineReg(X_train, X_test, y_train, y_test):\n",
    "    try:\n",
    "         clf = linear_model.LinearRegression()\n",
    "         results,clf_fit_train = gridSearch(X_train, X_test, y_train, y_test,clf)\n",
    "         return results,clf_fit_train\n",
    "    except Exception as ex:\n",
    "           print (\"-----------------------------------------------------------------------\")\n",
    "           template = \"An exception of type {0} occurred. Arguments:\\n{1!r}\"\n",
    "           message = template.format(type(ex).__name__, ex.args)\n",
    "           print (message)"
   ]
  },
  {
   "cell_type": "markdown",
   "metadata": {},
   "source": [
    "#### Split the huge file"
   ]
  },
  {
   "cell_type": "code",
   "execution_count": 16,
   "metadata": {},
   "outputs": [],
   "source": [
    "path = r'C:\\Users\\pmspr\\Documents\\HS\\MS\\Sem 3\\EECS 731\\Week 7\\HW\\Git\\EECS-731-Project-5\\Data'\n",
    "filename = \"Historical Product Demand.csv\"\n",
    "data = loadData(path,filename)"
   ]
  },
  {
   "cell_type": "code",
   "execution_count": 17,
   "metadata": {},
   "outputs": [],
   "source": [
    "#Remove rows with missing target values\n",
    "ind = data[data['Date'].isnull()].index.tolist()\n",
    "data = data.drop(index=ind, axis=0)\n",
    "data['Date'] = pd.to_datetime(data['Date'])\n",
    "\n",
    "# ind = data[data['Date'] < pd.Timestamp(2015,12,31)].index.tolist()\n",
    "# d1 = data.drop(index=ind, axis=0)\n",
    "# d1.to_csv('2016.csv',index=False)\n",
    "\n",
    "# ind = data[(data['Date'] < pd.Timestamp(2015,12,31)) | (data['Date'] < pd.Timestamp(2015,12,31))].index.tolist()\n",
    "# d1 = data[data['Date'] <= pd.Timestamp(2012,12,31)]\n",
    "# d1.to_csv('2012.csv',index=False)\n",
    "\n",
    "# d2 = data[(data['Date'] > pd.Timestamp(2012,12,31)) & (data['Date'] <= pd.Timestamp(2013,12,31))]\n",
    "# d2.to_csv('2013.csv',index=False)\n",
    "\n",
    "# d3 = data[(data['Date'] > pd.Timestamp(2013,12,31)) & (data['Date'] <= pd.Timestamp(2014,12,31))]\n",
    "# d3.to_csv('2014.csv',index=False)\n",
    "\n",
    "# d4 = data[(data['Date'] > pd.Timestamp(2014,12,31)) & (data['Date'] <= pd.Timestamp(2015,12,31))]\n",
    "# d4.to_csv('2015.csv',index=False)\n",
    "\n",
    "# d5 = data[(data['Date'] > pd.Timestamp(2015,12,31)) & (data['Date'] <= pd.Timestamp(2016,12,31))]\n",
    "# d5.to_csv('2016.csv',index=False)\n",
    "\n",
    "#d6 = data[(data['Date'] > pd.Timestamp(2016,12,31))]\n",
    "#d6.to_csv('2017.csv',index=False)"
   ]
  },
  {
   "cell_type": "markdown",
   "metadata": {},
   "source": [
    "##### Load the data from the relevant folder"
   ]
  },
  {
   "cell_type": "code",
   "execution_count": 19,
   "metadata": {},
   "outputs": [],
   "source": [
    "#load functions from \n",
    "#from projectFunctions import loadData, missingValues\n",
    "\n",
    "path = r'C:\\Users\\pmspr\\Documents\\HS\\MS\\Sem 3\\EECS 731\\Week 7\\HW\\Git\\EECS-731-Project-5\\Data'\n",
    "\n",
    "filename = \"2016.csv\"\n",
    "data_1 = loadData(path,filename)\n",
    "\n",
    "filename = \"2017.csv\"\n",
    "data_2 = loadData(path,filename)\n",
    "\n",
    "data_raw = pd.concat([data_1,data_2], ignore_index=True)\n",
    "data_raw.rename(columns={'Product_Code':'code','Product_Category':'category','Order_Demand':'target'},inplace=True)"
   ]
  },
  {
   "cell_type": "markdown",
   "metadata": {},
   "source": [
    "Analysis:\n",
    "- We have loaded the data from the relevant csv file. \n",
    "- Drop the irrelevant features, like dates, season, that will not add value to the model. "
   ]
  },
  {
   "cell_type": "markdown",
   "metadata": {},
   "source": [
    "##### Compute the missing values "
   ]
  },
  {
   "cell_type": "code",
   "execution_count": 21,
   "metadata": {},
   "outputs": [
    {
     "name": "stdout",
     "output_type": "stream",
     "text": [
      "                  Missing Values  % of Total Values\n",
      "Product_Code      0               0.0              \n",
      "Warehouse         0               0.0              \n",
      "Product_Category  0               0.0              \n",
      "Date              0               0.0              \n",
      "Order_Demand      0               0.0              \n"
     ]
    }
   ],
   "source": [
    "#Check the missing values\n",
    "misVal, mis_val_table_ren_columns = missingValues(data)\n",
    "print(mis_val_table_ren_columns.head(20))"
   ]
  },
  {
   "cell_type": "markdown",
   "metadata": {},
   "source": [
    "Analysis:\n",
    "- We have computed the count and percentage of missing values in our data.\n",
    "- We can observe that, our data is clean with no missing values"
   ]
  },
  {
   "cell_type": "markdown",
   "metadata": {},
   "source": [
    "### Understand the features"
   ]
  },
  {
   "cell_type": "code",
   "execution_count": 22,
   "metadata": {},
   "outputs": [],
   "source": [
    "#Remove rows with missing target values\n",
    "ind = data_raw[data_raw['Date'].isnull()].index.tolist()\n",
    "data = data_raw.drop(index=ind, axis=0)\n",
    "#data['target'] = pd.to_numeric(data['target'].str.replace('\\(|\\)',\"\"),errors='coerce').isnull()\n",
    "data['target'] = data['target'].str.replace('\\(|\\)',\"\")\n",
    "data['target'] = data['target'].astype('float')\n",
    "#data = data.astype({\"target\": float})"
   ]
  },
  {
   "cell_type": "code",
   "execution_count": 23,
   "metadata": {},
   "outputs": [],
   "source": [
    "#Compute sum of order values for each ware house\n",
    "wh_count = pd.DataFrame(data=data,columns=['Warehouse','target'])\n",
    "group = wh_count.groupby(['Warehouse'], as_index=False)\n",
    "wh_count = group['target'].sum()\n",
    "wh_count.rename(columns={'target':'wh_sum'},inplace=True)\n",
    "#wh_count.to_csv('test.csv',index=False)\n",
    "\n",
    "#Compute sum of order values for each code \n",
    "pc_count = pd.DataFrame(data=data,columns=['code','target'])\n",
    "group = pc_count.groupby(['code'], as_index=False)\n",
    "pc_count = group['target'].sum()\n",
    "pc_count.rename(columns={'target':'pc_sum'},inplace=True)\n",
    "#pc_count.to_csv('test.csv',index=False) \n",
    "\n",
    "#Compute sum of order values for each category\n",
    "pct_count = pd.DataFrame(data=data,columns=['category','target'])\n",
    "group = pct_count.groupby(['category'], as_index=False)\n",
    "pct_count = group['target'].sum()\n",
    "pct_count.rename(columns={'target':'pct_sum'},inplace=True)\n",
    "#pct_count.to_csv('test.csv',index=False)  \n",
    "\n",
    "# teams = data['team1'].unique()\n",
    "\n",
    "data = pd.merge(data,wh_count, on=['Warehouse'], how='inner')\n",
    "data = pd.merge(data,pc_count, on=['code'], how='inner')\n",
    "data = pd.merge(data,pct_count, on=['category'], how='inner')"
   ]
  },
  {
   "cell_type": "code",
   "execution_count": 24,
   "metadata": {},
   "outputs": [
    {
     "name": "stderr",
     "output_type": "stream",
     "text": [
      "C:\\ProgramData\\Anaconda2\\envs\\TFK35\\lib\\site-packages\\seaborn\\_decorators.py:43: FutureWarning: Pass the following variables as keyword args: x, y. From version 0.12, the only valid positional argument will be `data`, and passing other arguments without an explicit keyword will result in an error or misinterpretation.\n",
      "  FutureWarning\n"
     ]
    },
    {
     "data": {
      "image/png": "[encoded data removed]",
      "text/plain": [
       "<Figure size 1440x360 with 1 Axes>"
      ]
     },
     "metadata": {},
     "output_type": "display_data"
    },
    {
     "name": "stderr",
     "output_type": "stream",
     "text": [
      "C:\\ProgramData\\Anaconda2\\envs\\TFK35\\lib\\site-packages\\seaborn\\_decorators.py:43: FutureWarning: Pass the following variables as keyword args: x, y. From version 0.12, the only valid positional argument will be `data`, and passing other arguments without an explicit keyword will result in an error or misinterpretation.\n",
      "  FutureWarning\n"
     ]
    },
    {
     "data": {
      "image/png": "[encoded data removed]",
      "text/plain": [
       "<Figure size 432x288 with 1 Axes>"
      ]
     },
     "metadata": {},
     "output_type": "display_data"
    },
    {
     "data": {
      "image/png": "[encoded data removed]",
      "text/plain": [
       "<Figure size 1440x360 with 1 Axes>"
      ]
     },
     "metadata": {},
     "output_type": "display_data"
    },
    {
     "data": {
      "text/plain": [
       "<matplotlib.axes._subplots.AxesSubplot at 0x22589fdf320>"
      ]
     },
     "execution_count": 24,
     "metadata": {},
     "output_type": "execute_result"
    },
    {
     "data": {
      "image/png": "[encoded data removed]",
      "text/plain": [
       "<Figure size 432x288 with 1 Axes>"
      ]
     },
     "metadata": {},
     "output_type": "display_data"
    }
   ],
   "source": [
    "# from projectFunctions import barPlot, numCount\n",
    "barPlot(wh_count['Warehouse'], wh_count['wh_sum'],'Warehouse','Demand','Demand by Warehouse')\n",
    "#barPlot(pc_count['code'], pc_count['pc_sum'],'Code','Demand','Demand by Code')\n",
    "sns.lineplot(data = pc_count, x=\"code\", y=\"pc_sum\")\n",
    "barPlot(pct_count['category'], pct_count['pct_sum'],'Category','Demand','Demand by Product category')\n",
    "\n",
    "series = pd.DataFrame(data=data, columns=['Date','target'])\n",
    "sns.lineplot(data = series, x=\"Date\", y=\"target\")"
   ]
  },
  {
   "cell_type": "markdown",
   "metadata": {},
   "source": [
    "Analysis:\n",
    "- We can see only one ware house has most demand\n",
    "- Pattern along the date feature"
   ]
  },
  {
   "cell_type": "markdown",
   "metadata": {},
   "source": [
    "#### Explore and Tansform the data"
   ]
  },
  {
   "cell_type": "code",
   "execution_count": 27,
   "metadata": {},
   "outputs": [
    {
     "name": "stdout",
     "output_type": "stream",
     "text": [
      "-----------------------------------------------------------------------\n",
      "Total number of records: 188698\n",
      "Total number of features: 8\n",
      "-----------------------------------------------------------------------\n"
     ]
    },
    {
     "name": "stderr",
     "output_type": "stream",
     "text": [
      "C:\\ProgramData\\Anaconda2\\envs\\TFK35\\lib\\site-packages\\ipykernel_launcher.py:21: RuntimeWarning: invalid value encountered in greater_equal\n"
     ]
    }
   ],
   "source": [
    "#from projectFunctions import exploreData, transformData, splitData\n",
    "features, target = exploreData(data)\n",
    "features['Date'] = pd.to_datetime(features['Date'])\n",
    "features['Date'] = features['Date'].dt.dayofyear\n",
    "\n",
    "#Transform the data\n",
    "ft, tt = transformData(features, target)"
   ]
  },
  {
   "cell_type": "markdown",
   "metadata": {},
   "source": [
    "#### Split the data between training and test sizes"
   ]
  },
  {
   "cell_type": "code",
   "execution_count": 28,
   "metadata": {},
   "outputs": [
    {
     "name": "stdout",
     "output_type": "stream",
     "text": [
      "Features training set has 132088 samples.\n",
      "Features testing set has 56610 samples.\n",
      "Target training set has 132088 samples.\n",
      "Target testing set has 56610 samples.\n",
      "-----------------------------------------------------------------------\n"
     ]
    }
   ],
   "source": [
    "#Split the data with 30% test size.\n",
    "X_train, X_test, y_train, y_test = splitData(features,target,0.3)"
   ]
  },
  {
   "cell_type": "markdown",
   "metadata": {},
   "source": [
    "#### Implement the Linear regression"
   ]
  },
  {
   "cell_type": "code",
   "execution_count": 30,
   "metadata": {},
   "outputs": [
    {
     "name": "stdout",
     "output_type": "stream",
     "text": [
      "-----------------------------------------------------------------------\n",
      "An exception of type ValueError occurred. Arguments:\n",
      "(\"Input contains NaN, infinity or a value too large for dtype('float64').\",)\n",
      "-----------------------------------------------------------------------\n",
      "An exception of type TypeError occurred. Arguments:\n",
      "(\"'NoneType' object is not iterable\",)\n"
     ]
    },
    {
     "name": "stderr",
     "output_type": "stream",
     "text": [
      "C:\\ProgramData\\Anaconda2\\envs\\TFK35\\lib\\site-packages\\sklearn\\model_selection\\_split.py:1943: FutureWarning: You should specify a value for 'cv' instead of relying on the default value. The default value will change from 3 to 5 in version 0.22.\n",
      "  warnings.warn(CV_WARNING, FutureWarning)\n",
      "C:\\ProgramData\\Anaconda2\\envs\\TFK35\\lib\\site-packages\\sklearn\\model_selection\\_validation.py:542: FutureWarning: From version 0.22, errors during fit will result in a cross validation score of NaN by default. Use error_score='raise' if you want an exception raised or error_score=np.nan to adopt the behavior from version 0.22.\n",
      "  FutureWarning)\n"
     ]
    },
    {
     "ename": "TypeError",
     "evalue": "'NoneType' object is not iterable",
     "output_type": "error",
     "traceback": [
      "\u001b[1;31m---------------------------------------------------------------------------\u001b[0m",
      "\u001b[1;31mTypeError\u001b[0m                                 Traceback (most recent call last)",
      "\u001b[1;32m<ipython-input-30-34306a99c3ef>\u001b[0m in \u001b[0;36m<module>\u001b[1;34m\u001b[0m\n\u001b[0;32m      1\u001b[0m \u001b[1;31m#implement linear regression with cross validation\u001b[0m\u001b[1;33m\u001b[0m\u001b[1;33m\u001b[0m\u001b[1;33m\u001b[0m\u001b[0m\n\u001b[0;32m      2\u001b[0m \u001b[0mres_pd\u001b[0m \u001b[1;33m=\u001b[0m \u001b[0mpd\u001b[0m\u001b[1;33m.\u001b[0m\u001b[0mDataFrame\u001b[0m\u001b[1;33m(\u001b[0m\u001b[1;33m[\u001b[0m\u001b[1;33m]\u001b[0m\u001b[1;33m,\u001b[0m \u001b[0mcolumns\u001b[0m\u001b[1;33m=\u001b[0m\u001b[1;33m[\u001b[0m\u001b[1;34m'Model'\u001b[0m\u001b[1;33m,\u001b[0m\u001b[1;34m'AccTrain'\u001b[0m\u001b[1;33m,\u001b[0m\u001b[1;34m'AccTest'\u001b[0m\u001b[1;33m,\u001b[0m\u001b[1;34m'TrainTime'\u001b[0m\u001b[1;33m,\u001b[0m\u001b[1;34m'PredTime'\u001b[0m\u001b[1;33m]\u001b[0m\u001b[1;33m)\u001b[0m\u001b[1;33m\u001b[0m\u001b[1;33m\u001b[0m\u001b[0m\n\u001b[1;32m----> 3\u001b[1;33m \u001b[0mresults\u001b[0m\u001b[1;33m,\u001b[0m\u001b[0mclf_fit_train\u001b[0m \u001b[1;33m=\u001b[0m \u001b[0mlineReg\u001b[0m\u001b[1;33m(\u001b[0m\u001b[0mX_train\u001b[0m\u001b[1;33m,\u001b[0m \u001b[0mX_test\u001b[0m\u001b[1;33m,\u001b[0m \u001b[0my_train\u001b[0m\u001b[1;33m,\u001b[0m \u001b[0my_test\u001b[0m\u001b[1;33m)\u001b[0m\u001b[1;33m\u001b[0m\u001b[1;33m\u001b[0m\u001b[0m\n\u001b[0m\u001b[0;32m      4\u001b[0m \u001b[1;33m\u001b[0m\u001b[0m\n\u001b[0;32m      5\u001b[0m \u001b[0mprint\u001b[0m \u001b[1;33m(\u001b[0m\u001b[1;34m\"-----------------------------------------------------------------------\"\u001b[0m\u001b[1;33m)\u001b[0m\u001b[1;33m\u001b[0m\u001b[1;33m\u001b[0m\u001b[0m\n",
      "\u001b[1;31mTypeError\u001b[0m: 'NoneType' object is not iterable"
     ]
    }
   ],
   "source": [
    "#implement linear regression with cross validation\n",
    "res_pd = pd.DataFrame([], columns=['Model','AccTrain','AccTest','TrainTime','PredTime'])\n",
    "results,clf_fit_train = lineReg(X_train, X_test, y_train, y_test)\n",
    "\n",
    "print (\"-----------------------------------------------------------------------\")\n",
    "print (\"Times for Training, Prediction: %.5f, %.5f\" %(results['train_time'], results['pred_time']))    \n",
    "print (\"Accuracy for Training, Test sets: %.5f, %.5f\" %(results['acc_train'], results['acc_test']))     \n",
    "print (\"-----------------------------------------------------------------------\")\n",
    "res_pd.loc[0,'AccTrain'] = results['acc_train']\n",
    "res_pd.loc[0,'AccTest'] = results['acc_test']\n",
    "res_pd.loc[0,'TrainTime'] = results['train_time']\n",
    "res_pd.loc[0,'PredTime'] = results['pred_time']\n",
    "res_pd.loc[0,'Model'] = 'linear'"
   ]
  },
  {
   "cell_type": "markdown",
   "metadata": {},
   "source": [
    "Conclusion - \n",
    "- We converted the Time series data in to numeric, by changing the date feature to the  day of the year to identify the pattern.\n",
    "- Working on the error."
   ]
  },
  {
   "cell_type": "code",
   "execution_count": null,
   "metadata": {},
   "outputs": [],
   "source": []
  }
 ],
 "metadata": {
  "kernelspec": {
   "display_name": "Python 3",
   "language": "python",
   "name": "python3"
  },
  "language_info": {
   "codemirror_mode": {
    "name": "ipython",
    "version": 3
   },
   "file_extension": ".py",
   "mimetype": "text/x-python",
   "name": "python",
   "nbconvert_exporter": "python",
   "pygments_lexer": "ipython3",
   "version": "3.6.10"
  }
 },
 "nbformat": 4,
 "nbformat_minor": 4
}
